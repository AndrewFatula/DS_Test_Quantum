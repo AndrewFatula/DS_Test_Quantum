{
 "cells": [
  {
   "cell_type": "markdown",
   "id": "895c52ea",
   "metadata": {},
   "source": [
    "## Task 1"
   ]
  },
  {
   "cell_type": "code",
   "execution_count": 1,
   "id": "ca8e9ee1",
   "metadata": {
    "ExecuteTime": {
     "end_time": "2023-03-10T19:33:28.786563Z",
     "start_time": "2023-03-10T19:33:28.670638Z"
    }
   },
   "outputs": [],
   "source": [
    "import numpy as np\n",
    "\n",
    "\n",
    "ar1 = [[0,1,1],\n",
    "       [0,0,0],\n",
    "       [0,1,1]]\n",
    "\n",
    "ar2 = [[0,0,0,1],\n",
    "       [0,0,1,0],\n",
    "       [0,1,0,0]]\n",
    "\n",
    "ar3 = [[0,0,0,1],\n",
    "       [0,0,1,1],\n",
    "       [0,1,0,1]]\n",
    "\n",
    "ar4 = [[0,1,0,1],\n",
    "       [1,0,0,1],\n",
    "       [1,0,1,1]]\n",
    "\n",
    "ar5 = [[1,1,0,1,0],\n",
    "       [1,0,0,1,1],\n",
    "       [1,0,1,1,1],\n",
    "       [1,1,0,0,1]]\n",
    "\n",
    "out1 = 2\n",
    "\n",
    "out2 = 3\n",
    "\n",
    "out3 = 2\n",
    "\n",
    "out4 = 3\n",
    "\n",
    "out5 = 2"
   ]
  },
  {
   "cell_type": "code",
   "execution_count": 2,
   "id": "f0b3d6fe",
   "metadata": {
    "ExecuteTime": {
     "end_time": "2023-03-10T19:33:28.888632Z",
     "start_time": "2023-03-10T19:33:28.876192Z"
    }
   },
   "outputs": [],
   "source": [
    "def explore_lands(land, lands, island):\n",
    "    \"\"\"\n",
    "    Function that explores each land point\n",
    "    *args:\n",
    "        @land - tuple(int,int), tuple with coordinates of current land\n",
    "        @lands - list(tuple(int,int)), list of tuples with not explored lands coordinates\n",
    "        @island - already explored lands that belongs to one specific island\n",
    "    *return:\n",
    "        @island - list(tuple(int,int)), \n",
    "                    list of lands coordinates that correspond to one separate insland\n",
    "        @lands - list(tuple(int,int)), list of not explored lands coordinates\n",
    "    \"\"\"\n",
    "    land_left = (land[0], land[1]-1)\n",
    "    land_right = (land[0], land[1]+1)\n",
    "    land_up = (land[0]-1, land[1])\n",
    "    land_down = (land[0]+1, land[1])\n",
    "    land_steps = [land_left, land_right, land_up, land_down]\n",
    "    for land_step in land_steps:\n",
    "        if land_step in lands:\n",
    "            island.append(land_step)\n",
    "            lands.remove(land_step)\n",
    "            island_part, lands = explore_lands(land_step, lands, island)\n",
    "            island += island_part\n",
    "    return list(set(island)), lands\n",
    "\n",
    "\n",
    "def get_islands(ar):\n",
    "    \"\"\"\n",
    "    function that groups all lands (coordinates of 1 in binary matrix to explore)\n",
    "    into separate islands\n",
    "    *args:\n",
    "        @ar - binary matrix with shape nxm to explore\n",
    "    *return:\n",
    "        @islands - grouped coordinates by condition described in the task description\n",
    "    \"\"\"\n",
    "    ar = np.array(ar)\n",
    "    shape = ar.shape\n",
    "    lands = []\n",
    "    for idx in range(shape[0]):\n",
    "        for idy in range(shape[1]):\n",
    "            if ar[idx, idy] == 1:\n",
    "                lands.append((idx, idy))\n",
    "    islands = []\n",
    "    while len(lands) > 0:\n",
    "        land = lands[0]\n",
    "        lands.remove(land)\n",
    "        island, lands = explore_lands(land, lands, [land])\n",
    "        islands.append(island)\n",
    "    return islands"
   ]
  },
  {
   "cell_type": "code",
   "execution_count": 3,
   "id": "4cfadf43",
   "metadata": {
    "ExecuteTime": {
     "end_time": "2023-03-10T19:33:29.065754Z",
     "start_time": "2023-03-10T19:33:29.059383Z"
    }
   },
   "outputs": [
    {
     "name": "stdout",
     "output_type": "stream",
     "text": [
      "True\n",
      "True\n",
      "True\n",
      "True\n",
      "True\n"
     ]
    }
   ],
   "source": [
    "islands1 = get_islands(ar1)\n",
    "print(len(islands1)==out1)\n",
    "islands2 = get_islands(ar2)\n",
    "print(len(islands2)==out2)\n",
    "islands3 = get_islands(ar3)\n",
    "print(len(islands3)==out3)\n",
    "islands4 = get_islands(ar4)\n",
    "print(len(islands4)==out4)\n",
    "islands5 = get_islands(ar5)\n",
    "print(len(islands5)==out5)"
   ]
  },
  {
   "cell_type": "code",
   "execution_count": null,
   "id": "537fdb0d",
   "metadata": {},
   "outputs": [],
   "source": []
  }
 ],
 "metadata": {
  "hide_input": false,
  "kernelspec": {
   "display_name": "Python 3 (ipykernel)",
   "language": "python",
   "name": "python3"
  },
  "language_info": {
   "codemirror_mode": {
    "name": "ipython",
    "version": 3
   },
   "file_extension": ".py",
   "mimetype": "text/x-python",
   "name": "python",
   "nbconvert_exporter": "python",
   "pygments_lexer": "ipython3",
   "version": "3.10.6"
  },
  "toc": {
   "base_numbering": 1,
   "nav_menu": {},
   "number_sections": true,
   "sideBar": true,
   "skip_h1_title": false,
   "title_cell": "Table of Contents",
   "title_sidebar": "Contents",
   "toc_cell": false,
   "toc_position": {
    "height": "calc(100% - 180px)",
    "left": "10px",
    "top": "150px",
    "width": "640.133px"
   },
   "toc_section_display": true,
   "toc_window_display": false
  },
  "varInspector": {
   "cols": {
    "lenName": 16,
    "lenType": 16,
    "lenVar": 40
   },
   "kernels_config": {
    "python": {
     "delete_cmd_postfix": "",
     "delete_cmd_prefix": "del ",
     "library": "var_list.py",
     "varRefreshCmd": "print(var_dic_list())"
    },
    "r": {
     "delete_cmd_postfix": ") ",
     "delete_cmd_prefix": "rm(",
     "library": "var_list.r",
     "varRefreshCmd": "cat(var_dic_list()) "
    }
   },
   "types_to_exclude": [
    "module",
    "function",
    "builtin_function_or_method",
    "instance",
    "_Feature"
   ],
   "window_display": false
  }
 },
 "nbformat": 4,
 "nbformat_minor": 5
}
