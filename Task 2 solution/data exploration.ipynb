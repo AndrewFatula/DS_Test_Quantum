{
 "cells": [
  {
   "cell_type": "code",
   "execution_count": null,
   "id": "1ff85da8",
   "metadata": {},
   "outputs": [],
   "source": [
    "import pandas as pd\n",
    "import numpy as np\n",
    "\n",
    "\n",
    "dataset = pd.read_csv('data/train.csv')\n",
    "dataset"
   ]
  },
  {
   "cell_type": "code",
   "execution_count": null,
   "id": "b57a666c",
   "metadata": {},
   "outputs": [],
   "source": [
    "dataset.columns"
   ]
  },
  {
   "cell_type": "code",
   "execution_count": null,
   "id": "5f9ffa3a",
   "metadata": {},
   "outputs": [],
   "source": [
    "# Since we have 60000 of data rows, and examples are not ordered, \n",
    "# we can normalize each column values (substracting mean and dividing by std)\n",
    "# in order to fulle check correlation of target with each column"
   ]
  },
  {
   "cell_type": "code",
   "execution_count": null,
   "id": "32ea7799",
   "metadata": {},
   "outputs": [],
   "source": [
    "def normalization(x):\n",
    "    mean = np.mean(x)\n",
    "    std = np.std(x)\n",
    "    return (x-mean)/std"
   ]
  },
  {
   "cell_type": "code",
   "execution_count": null,
   "id": "ffc5b339",
   "metadata": {},
   "outputs": [],
   "source": [
    "normalized_target = normalization(dataset['target'])\n",
    "cols_correlations = {}\n",
    "\n",
    "# lets check correlation between feature, its square root and its squared value with targed \n",
    "\n",
    "for col in dataset.columns:\n",
    "    if col=='target':\n",
    "        continue\n",
    "    normalized_column = normalization(dataset[col])\n",
    "    normalized_column_square = normalization(dataset[col]**2)\n",
    "    correlation = np.corrcoef(normalized_target, normalized_column)[0, 1]\n",
    "    correlation_square = np.corrcoef(normalized_target, normalized_column_square)[0, 1]\n",
    "    print(col, correlation, correlation_square)\n",
    "    cols_correlations[col] = (correlation, correlation_square)\n",
    "    "
   ]
  },
  {
   "cell_type": "code",
   "execution_count": null,
   "id": "0c337135",
   "metadata": {},
   "outputs": [],
   "source": [
    "########### Assumption of dataset origins: #################\n",
    "# some initial vector X1\n",
    "# X1 ** 2 = 'target' column\n",
    "# X1 + np.random.rand(len(X1)) - 0.5 = '6' column\n",
    "# all other columns random without any connections to target"
   ]
  }
 ],
 "metadata": {
  "hide_input": false,
  "kernelspec": {
   "display_name": "Python 3 (ipykernel)",
   "language": "python",
   "name": "python3"
  },
  "language_info": {
   "codemirror_mode": {
    "name": "ipython",
    "version": 3
   },
   "file_extension": ".py",
   "mimetype": "text/x-python",
   "name": "python",
   "nbconvert_exporter": "python",
   "pygments_lexer": "ipython3",
   "version": "3.10.6"
  },
  "toc": {
   "base_numbering": 1,
   "nav_menu": {},
   "number_sections": true,
   "sideBar": true,
   "skip_h1_title": false,
   "title_cell": "Table of Contents",
   "title_sidebar": "Contents",
   "toc_cell": false,
   "toc_position": {},
   "toc_section_display": true,
   "toc_window_display": false
  }
 },
 "nbformat": 4,
 "nbformat_minor": 5
}
